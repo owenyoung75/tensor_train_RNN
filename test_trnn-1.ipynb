{
 "cells": [
  {
   "cell_type": "markdown",
   "metadata": {},
   "source": [
    "## Tensor RNN for long term forecasting demo \n",
    "- seq2seq architecture with tensor RNN cell\n",
    "- variable length of forecasting horizon\n",
    "- flexible temporal high order structure"
   ]
  },
  {
   "cell_type": "markdown",
   "metadata": {},
   "source": [
    "### step 1: Flags for training configuration"
   ]
  },
  {
   "cell_type": "code",
   "execution_count": 1,
   "metadata": {
    "collapsed": false,
    "scrolled": false
   },
   "outputs": [
    {
     "name": "stdout",
     "output_type": "stream",
     "text": [
      "Flags configuration loaded ...\n"
     ]
    }
   ],
   "source": [
    "\"\"\"Functions for downloading and reading time series data.\"\"\"\n",
    "\n",
    "from __future__ import absolute_import\n",
    "from __future__ import division\n",
    "from __future__ import print_function\n",
    "\n",
    "import numpy as np\n",
    "from six.moves import xrange  # pylint: disable=redefined-builtin\n",
    "\n",
    "from tensorflow.contrib.learn.python.learn.datasets import base\n",
    "from tensorflow.python.framework import random_seed\n",
    "\n",
    "import tensorflow as tf\n",
    "from tensorflow.contrib import rnn\n",
    "from reader import read_data_sets\n",
    "from model_seq2seq import *\n",
    "from trnn import *\n",
    "import numpy \n",
    "from train_config import *\n",
    "\n",
    "\n",
    "flags = tf.flags\n",
    "\n",
    "flags.DEFINE_string('f', '', 'kernel2')\n",
    "flags.DEFINE_string(\"model\", \"TTRNN\", \"Model used for learning.\")\n",
    "flags.DEFINE_string(\"data_path\", \"./data.npy\", \"Data input directory.\")\n",
    "flags.DEFINE_string(\"save_path\", \"./log/tlstm/\", \"Model output directory.\")\n",
    "flags.DEFINE_bool(\"use_sched_samp\", False, \"Use scheduled sampling in training\")\n",
    "flags.DEFINE_integer(\"inp_steps\", 12, \"burn in steps\")\n",
    "flags.DEFINE_integer(\"out_steps\", None, \"test steps\")\n",
    "flags.DEFINE_integer(\"hidden_size\", 8, \"hidden layer size\")\n",
    "flags.DEFINE_float(\"learning_rate\", 1e-3, \"learning rate\")\n",
    "flags.DEFINE_float(\"decay_rate\", 0.8, \"decay rate\")\n",
    "flags.DEFINE_integer(\"rank\", 1, \"rank for tt decomposition\")\n",
    "flags.DEFINE_integer(\"num_lags\", 3, \"time-lag length\")\n",
    "flags.DEFINE_integer(\"num_layers\", 2, \"time-lag length\")\n",
    "\n",
    "FLAGS = flags.FLAGS\n",
    "print('Flags configuration loaded ...')"
   ]
  },
  {
   "cell_type": "markdown",
   "metadata": {},
   "source": [
    "### step 2: Read flags and data into memory"
   ]
  },
  {
   "cell_type": "code",
   "execution_count": 2,
   "metadata": {
    "collapsed": false
   },
   "outputs": [
    {
     "name": "stdout",
     "output_type": "stream",
     "text": [
      "loading time series ...\n",
      "input type  <class 'numpy.ndarray'> (1000, 100, 1)\n",
      "normalize to (0-1)\n",
      "----------------------------------------------------------------------------------------------------\n",
      "|input steps| 12 |out steps| 88 |hidden size| 8 |learning rate| 0.001 |rank val| [1] |time lag| 3\n",
      "----------------------------------------------------------------------------------------------------\n"
     ]
    }
   ],
   "source": [
    "'''\n",
    "To forecast time series using a recurrent neural network, we consider every \n",
    "row as a sequence of short time series.\n",
    "'''\n",
    "\n",
    "# Training Parameters\n",
    "config = TrainConfig()\n",
    "config.hidden_size = FLAGS.hidden_size\n",
    "config.learning_rate = FLAGS.learning_rate\n",
    "config.decay_rate = FLAGS.decay_rate\n",
    "config.rank_vals = [FLAGS.rank,FLAGS.rank,FLAGS.rank]\n",
    "config.num_lags = FLAGS.num_lags\n",
    "config.num_layers = FLAGS.num_layers\n",
    "\n",
    "# Scheduled sampling [optional]\n",
    "if FLAGS.use_sched_samp:\n",
    "    config.sample_prob = tf.get_variable(\"sample_prob\", shape=(), initializer=tf.zeros_initializer())\n",
    "sampling_burn_in = 400\n",
    "\n",
    "# Training Parameters\n",
    "training_steps = config.training_steps\n",
    "batch_size = config.batch_size\n",
    "display_step = 500\n",
    "inp_steps = config.inp_steps\n",
    "out_steps = FLAGS.out_steps\n",
    "\n",
    "\n",
    "# Read Dataset\n",
    "dataset, stats = read_data_sets(FLAGS.data_path, True, inp_steps, out_steps)\n",
    "\n",
    "# Network Parameters\n",
    "num_input = stats['num_input']  # dataset data input (time series dimension: 1)\n",
    "num_steps = stats['num_steps']\n",
    "\n",
    "if out_steps is None:\n",
    "    # Forecast for the rest if horizon is not set\n",
    "    out_steps = num_steps - inp_steps\n",
    "\n",
    "# Print training config\n",
    "print('-'*100)\n",
    "print('|input steps|', inp_steps, \n",
    "      '|out steps|', out_steps,\n",
    "      '|hidden size|', config.hidden_size, \n",
    "      '|learning rate|', config.learning_rate, \n",
    "      '|rank val|', config.rank_vals,\n",
    "      '|time lag|', config.num_lags\n",
    "     )\n",
    "print('-'*100)"
   ]
  },
  {
   "cell_type": "code",
   "execution_count": 3,
   "metadata": {
    "collapsed": false
   },
   "outputs": [
    {
     "data": {
      "text/plain": [
       "[8, 0.001, 0.8, [1], 5000, 50, 1, 100, 12, 88]"
      ]
     },
     "execution_count": 3,
     "metadata": {},
     "output_type": "execute_result"
    }
   ],
   "source": [
    "[config.hidden_size, config.learning_rate, config.decay_rate, config.rank_vals, training_steps, batch_size, num_input, num_steps, FLAGS.inp_steps, out_steps]"
   ]
  },
  {
   "cell_type": "markdown",
   "metadata": {},
   "source": [
    "### Step 3: Build neural network models\n",
    "Building seq2seq model for training/validation/testing,\n",
    "validation and testing models are shared,\n",
    "scheduled sampling is by default off "
   ]
  },
  {
   "cell_type": "code",
   "execution_count": 3,
   "metadata": {
    "collapsed": false
   },
   "outputs": [
    {
     "name": "stdout",
     "output_type": "stream",
     "text": [
      "Training -->\n",
      "          Create Encoder ...\n",
      "          Create Decoder ...\n",
      "Testing -->\n",
      "          Create Encoder ...\n",
      "          Create Decoder ...\n",
      "Testing -->\n",
      "          Create Encoder ...\n",
      "          Create Decoder ...\n",
      "<function TTRNN at 0x181c322e18>Model built ...\n"
     ]
    }
   ],
   "source": [
    "# tf Graph input\n",
    "X = tf.placeholder(\"float\", [None, inp_steps, num_input])\n",
    "Y = tf.placeholder(\"float\", [None, out_steps, num_input])\n",
    "\n",
    "# Decoder output\n",
    "Z = tf.placeholder(\"float\", [None, out_steps, num_input])\n",
    "\n",
    "Model = globals()[FLAGS.model]\n",
    "with tf.name_scope(\"Train\"):\n",
    "    with tf.variable_scope(\"Model\", reuse=False):\n",
    "        train_pred = Model(X, Y, True,  config)\n",
    "with tf.name_scope(\"Valid\"):\n",
    "    with tf.variable_scope(\"Model\", reuse=True):\n",
    "        valid_pred = Model(X, Y, False,  config)\n",
    "with tf.name_scope(\"Test\"):\n",
    "    with tf.variable_scope(\"Model\", reuse=True):\n",
    "        test_pred = Model(X, Y, False,  config)\n",
    "\n",
    "\n",
    "# Define loss and optimizer\n",
    "train_loss = tf.sqrt(tf.reduce_mean(tf.squared_difference(train_pred, Z)))\n",
    "valid_loss = tf.sqrt(tf.reduce_mean(tf.squared_difference(valid_pred, Z)))\n",
    "test_loss = tf.sqrt(tf.reduce_mean(tf.squared_difference(test_pred, Z)))\n",
    "\n",
    "# Exponential learning rate decay \n",
    "global_step = tf.Variable(0, trainable=False)\n",
    "starter_learning_rate = config.learning_rate\n",
    "learning_rate = tf.train.exponential_decay(starter_learning_rate, \n",
    "                                           global_step,\n",
    "                                           2000, \n",
    "                                           config.decay_rate, \n",
    "                                           staircase=True)\n",
    "optimizer = tf.train.RMSPropOptimizer(learning_rate)\n",
    "train_op = optimizer.minimize(train_loss,global_step=global_step)\n",
    "\n",
    "# Scheduled sampling params\n",
    "eps_min = 0.1 # minimal prob\n",
    "\n",
    "# Write summary\n",
    "train_summary = tf.summary.scalar('train_loss', train_loss)\n",
    "valid_summary = tf.summary.scalar('valid_loss', valid_loss)\n",
    "lr_summary = tf.summary.scalar('learning_rate', learning_rate)\n",
    "\n",
    "# Initialize the variables (i.e. assign their default value)\n",
    "init = tf.global_variables_initializer()\n",
    "\n",
    "# Saver for the model and loss\n",
    "saver = tf.train.Saver()\n",
    "hist_loss =[]\n",
    "\n",
    "print( str(Model) + 'Model built ...' )"
   ]
  },
  {
   "cell_type": "markdown",
   "metadata": {},
   "source": [
    "### Training loop\n",
    "This may take a while, training loss is displayed at every 500 steps, \n",
    "use GPU can speed up training"
   ]
  },
  {
   "cell_type": "code",
   "execution_count": 4,
   "metadata": {
    "collapsed": false
   },
   "outputs": [
    {
     "name": "stdout",
     "output_type": "stream",
     "text": [
      "Step 1, Minibatch Loss= 0.3542\n",
      "Validation Loss: 0.35474977\n",
      "Step 500, Minibatch Loss= 0.1517\n",
      "Validation Loss: 0.15251872\n",
      "Step 1000, Minibatch Loss= 0.1041\n",
      "Validation Loss: 0.10671236\n",
      "Optimization Finished!\n",
      "Testing Loss: 0.104694515\n",
      "Model saved in file: ./log/tlstm/\n"
     ]
    }
   ],
   "source": [
    "# Start training\n",
    "training_steps = 1000\n",
    "with tf.Session() as sess:\n",
    "    # Merge all the summaries and write them out to /log/tlstm (by default)\n",
    "    merged = tf.summary.merge_all()\n",
    "#     summary_writer = tf.summary.FileWriter(FLAGS.save_path,sess.graph)\n",
    "\n",
    "    # Run the initializer\n",
    "    sess.run(init)    \n",
    "    \n",
    "    for step in range(1, training_steps+1):\n",
    "        batch_x, batch_y, batch_z = dataset.train.next_batch(batch_size)\n",
    "        # Run optimization op (backprop)\n",
    "        sess.run(train_op, \n",
    "                 feed_dict={X: batch_x, Y: batch_y, Z:batch_z}\n",
    "                )\n",
    "        if step % display_step == 0 or step == 1:\n",
    "            # Calculate batch loss \n",
    "            tr_loss = sess.run(train_loss,\n",
    "                               feed_dict={X: batch_x, \n",
    "                                          Y: batch_y, \n",
    "                                          Z:batch_z}\n",
    "                              )\n",
    "            run_options = tf.RunOptions(trace_level=tf.RunOptions.FULL_TRACE)\n",
    "            print(\"Step \" + str(step) + \", Minibatch Loss= \" + \"{:.4f}\".format(tr_loss) )\n",
    "            \n",
    "            # Calculate validation\n",
    "            valid_enc_inps = dataset.validation.enc_inps.reshape((-1, inp_steps, num_input))\n",
    "            valid_dec_inps = dataset.validation.dec_inps.reshape((-1, out_steps, num_input))\n",
    "            valid_dec_outs = dataset.validation.dec_outs.reshape((-1, out_steps, num_input))\n",
    "            va_loss = sess.run(valid_loss,\n",
    "                               feed_dict={X: valid_enc_inps,\n",
    "                                          Y: valid_dec_inps, \n",
    "                                          Z: valid_dec_outs}\n",
    "                              )\n",
    "            print(\"Validation Loss:\", va_loss)\n",
    "\n",
    "    print(\"Optimization Finished!\")\n",
    "\n",
    "    # Calculate accuracy for test datasets\n",
    "    test_enc_inps = dataset.test.enc_inps.reshape((-1, inp_steps, num_input))\n",
    "    test_dec_inps = dataset.test.dec_inps.reshape((-1, out_steps, num_input))\n",
    "    test_dec_outs = dataset.test.dec_outs.reshape((-1, out_steps, num_input))\n",
    "\n",
    "    \n",
    "    # Fetch the predictions \n",
    "#     fetches = {\n",
    "#         \"true\":Z,\n",
    "#         \"pred\":test_pred,\n",
    "#         \"loss\":test_loss\n",
    "#     }\n",
    "    true, pred, loss = sess.run([Z, test_pred, test_loss],\n",
    "                                feed_dict={X: test_enc_inps, \n",
    "                                           Y: test_dec_inps, \n",
    "                                           Z: test_dec_outs}\n",
    "                               )\n",
    "    print(\"Testing Loss:\", loss)\n",
    "\n",
    "    # Save the variables to disk.\n",
    "    save_path = saver.save(sess, FLAGS.save_path)\n",
    "    print(\"Model saved in file: %s\" % save_path)\n",
    "    # Save predictions \n",
    "    numpy.save(save_path+\"predict.npy\", (true, pred))\n",
    "    # Save config file\n",
    "    with open(save_path+\"config.out\", 'w') as f:\n",
    "        f.write('hidden_size:'+ str(config.hidden_size)+'\\n'+ 'learning_rate:'+ str(config.learning_rate)+ '\\n')\n",
    "        f.write('train_error:'+ str(loss) +'\\n'+ 'valid_error:' + str(va_loss) + '\\n'+ 'test_error:'+ str(loss) +'\\n')"
   ]
  },
  {
   "cell_type": "markdown",
   "metadata": {},
   "source": [
    "### Visualize predictions"
   ]
  },
  {
   "cell_type": "code",
   "execution_count": 5,
   "metadata": {
    "collapsed": false
   },
   "outputs": [
    {
     "data": {
      "text/plain": [
       "[<matplotlib.lines.Line2D at 0x184ca76cf8>]"
      ]
     },
     "execution_count": 5,
     "metadata": {},
     "output_type": "execute_result"
    },
    {
     "data": {
      "image/png": "[encoded data removed]",
      "text/plain": [
       "<Figure size 432x288 with 1 Axes>"
      ]
     },
     "metadata": {},
     "output_type": "display_data"
    }
   ],
   "source": [
    "import matplotlib.pyplot as plt\n",
    "import seaborn as sns\n",
    "%matplotlib inline\n",
    "\n",
    "y_true = true\n",
    "y_pred = pred\n",
    "plt.plot(y_true[0,:,0].T,':')\n",
    "plt.plot(y_pred[0,:,0].T,'-')"
   ]
  },
  {
   "cell_type": "code",
   "execution_count": null,
   "metadata": {
    "collapsed": true
   },
   "outputs": [],
   "source": []
  }
 ],
 "metadata": {
  "kernelspec": {
   "display_name": "Python 3",
   "language": "python",
   "name": "python3"
  },
  "language_info": {
   "codemirror_mode": {
    "name": "ipython",
    "version": 3
   },
   "file_extension": ".py",
   "mimetype": "text/x-python",
   "name": "python",
   "nbconvert_exporter": "python",
   "pygments_lexer": "ipython3",
   "version": "3.6.5"
  }
 },
 "nbformat": 4,
 "nbformat_minor": 2
}
