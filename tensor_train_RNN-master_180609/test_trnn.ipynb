{
 "cells": [
  {
   "cell_type": "markdown",
   "metadata": {},
   "source": [
    "## Tensor RNN for long term forecasting demo \n",
    "- seq2seq architecture with tensor RNN cell\n",
    "- variable length of forecasting horizon\n",
    "- flexible temporal high order structure"
   ]
  },
  {
   "cell_type": "markdown",
   "metadata": {},
   "source": [
    "### step 1: Flags for training configuration"
   ]
  },
  {
   "cell_type": "code",
   "execution_count": 1,
   "metadata": {
    "collapsed": false,
    "scrolled": false
   },
   "outputs": [
    {
     "name": "stdout",
     "output_type": "stream",
     "text": [
      "Flags configuration loaded ...\n"
     ]
    }
   ],
   "source": [
    "\"\"\"Functions for downloading and reading time series data.\"\"\"\n",
    "\n",
    "from __future__ import absolute_import\n",
    "from __future__ import division\n",
    "from __future__ import print_function\n",
    "\n",
    "import numpy as np\n",
    "from six.moves import xrange  # pylint: disable=redefined-builtin\n",
    "\n",
    "from tensorflow.contrib.learn.python.learn.datasets import base\n",
    "from tensorflow.python.framework import random_seed\n",
    "\n",
    "import tensorflow as tf\n",
    "from tensorflow.contrib import rnn\n",
    "from reader import read_data_sets\n",
    "from model_seq2seq import *\n",
    "from trnn import *\n",
    "import numpy \n",
    "from train_config import *\n",
    "\n",
    "\n",
    "\n",
    "flags = tf.flags\n",
    "flags.DEFINE_string('f', '', 'kernel2')\n",
    "flags.DEFINE_string(\"model\", \"TLSTM\",\n",
    "          \"Model used for learning.\")\n",
    "flags.DEFINE_string(\"data_path\", \"./data.npy\",\n",
    "          \"Data input directory.\")\n",
    "flags.DEFINE_string(\"save_path\", \"./log/tlstm/\",\n",
    "          \"Model output directory.\")\n",
    "flags.DEFINE_bool(\"use_sched_samp\", False,\n",
    "                  \"Use scheduled sampling in training\")\n",
    "flags.DEFINE_integer(\"inp_steps\", 20, \"burn in steps\")\n",
    "flags.DEFINE_integer(\"out_steps\", 5, \"test steps\")\n",
    "flags.DEFINE_integer(\"hidden_size\", 13, \"hidden layer size\")\n",
    "flags.DEFINE_float(\"learning_rate\", 1e-1, \"learning rate\")\n",
    "flags.DEFINE_float(\"decay_rate\", 0.8, \"learning rate\")\n",
    "flags.DEFINE_integer(\"rank\", 1, \"rank for tt decomposition\")\n",
    "\n",
    "FLAGS = flags.FLAGS\n",
    "print('Flags configuration loaded ...')"
   ]
  },
  {
   "cell_type": "markdown",
   "metadata": {},
   "source": [
    "### step 2: Read flags and data into memory"
   ]
  },
  {
   "cell_type": "code",
   "execution_count": 2,
   "metadata": {
    "collapsed": false
   },
   "outputs": [
    {
     "name": "stdout",
     "output_type": "stream",
     "text": [
      "loading time series ...\n",
      "input type  <class 'numpy.ndarray'> (1000, 100, 1)\n",
      "normalize to (0-1)\n",
      "----------------------------------------------------------------------------------------------------\n",
      "|input steps| 20 |out steps| 5 | hidden size| 2 |learning rate| 0.1 |rank val| [3, 6, 4]\n",
      "----------------------------------------------------------------------------------------------------\n",
      "expanded_hidden_size 5\n"
     ]
    }
   ],
   "source": [
    "'''\n",
    "To forecast time series using a recurrent neural network, we consider every \n",
    "row as a sequence of short time series.\n",
    "'''\n",
    "\n",
    "# Training Parameters\n",
    "config = TrainConfig()\n",
    "#config.hidden_size = FLAGS.hidden_size\n",
    "config.learning_rate = FLAGS.learning_rate\n",
    "config.decay_rate = FLAGS.decay_rate\n",
    "#config.rank_vals = [FLAGS.rank]\n",
    "\n",
    "# Scheduled sampling [optional]\n",
    "if FLAGS.use_sched_samp:\n",
    "    config.sample_prob = tf.get_variable(\"sample_prob\", shape=(), initializer=tf.zeros_initializer())\n",
    "sampling_burn_in = 400\n",
    "\n",
    "# Training Parameters\n",
    "training_steps = config.training_steps\n",
    "batch_size = config.batch_size\n",
    "display_step = 10\n",
    "inp_steps = config.inp_steps\n",
    "out_steps = FLAGS.out_steps\n",
    "\n",
    "\n",
    "# Read Dataset\n",
    "dataset, stats = read_data_sets(FLAGS.data_path, True, inp_steps, out_steps)\n",
    "\n",
    "# Network Parameters\n",
    "num_input = stats['num_input']  # dataset data input (time series dimension: 3)\n",
    "num_steps = stats['num_steps']\n",
    "\n",
    "if out_steps is None:\n",
    "    # Forecast for the rest if horizon is not set\n",
    "    out_steps = num_steps - inp_steps\n",
    "\n",
    "# Print training config\n",
    "print('-'*100)\n",
    "print('|input steps|', inp_steps, '|out steps|', out_steps ,'|', 'hidden size|',config.hidden_size, '|learning rate|',\n",
    "     config.learning_rate, '|rank val|', config.rank_vals)\n",
    "print('-'*100)\n",
    "\n",
    "\n",
    "from math import factorial\n",
    "print(\"expanded_hidden_size\", sum([factorial(i+1+config.hidden_size-1)//factorial(i+1)//factorial(config.hidden_size-1) for i in range(config.poly_order)]))"
   ]
  },
  {
   "cell_type": "markdown",
   "metadata": {},
   "source": [
    "### visualize time series samples\n",
    "load the raw data into the notebook to visualize"
   ]
  },
  {
   "cell_type": "code",
   "execution_count": 14,
   "metadata": {
    "collapsed": false
   },
   "outputs": [
    {
     "name": "stdout",
     "output_type": "stream",
     "text": [
      "loading time series ...\n",
      "(9976, 25, 1)\n"
     ]
    },
    {
     "data": {
      "image/png": "[encoded data removed]",
      "text/plain": [
       "<Figure size 432x288 with 1 Axes>"
      ]
     },
     "metadata": {},
     "output_type": "display_data"
    }
   ],
   "source": [
    "import numpy as np\n",
    "import matplotlib.pyplot as plt\n",
    "import seaborn as sns\n",
    "%matplotlib inline\n",
    "\n",
    "print(\"loading time series ...\")\n",
    "data = np.load(\"./data1.npy\")\n",
    "# Expand the dimension if univariate time series\n",
    "if (np.ndim(data)==1):\n",
    "        data = np.expand_dims(data, axis=1)\n",
    "fig = plt.plot(data[9975,:,0].T)\n",
    "# print(data.shape)"
   ]
  },
  {
   "cell_type": "markdown",
   "metadata": {},
   "source": [
    "### Step 3: Build neural network models\n",
    "Building seq2seq model for training/validation/testing,\n",
    "validation and testing models are shared,\n",
    "scheduled sampling is by default off "
   ]
  },
  {
   "cell_type": "code",
   "execution_count": 4,
   "metadata": {
    "collapsed": false
   },
   "outputs": [
    {
     "name": "stdout",
     "output_type": "stream",
     "text": [
      "Training -->\n",
      "          Create Encoder ...\n",
      "time_step 0\n",
      "time_step 1\n",
      "time_step 2\n",
      "time_step 3\n",
      "time_step 4\n",
      "time_step 5\n",
      "time_step 6\n",
      "time_step 7\n",
      "time_step 8\n",
      "time_step 9\n",
      "time_step 10\n",
      "time_step 11\n",
      "time_step 12\n",
      "time_step 13\n",
      "time_step 14\n",
      "time_step 15\n",
      "time_step 16\n",
      "time_step 17\n",
      "time_step 18\n",
      "time_step 19\n",
      "          Create Decoder ...\n",
      "time_step 0\n",
      "time_step 1\n",
      "time_step 2\n",
      "time_step 3\n",
      "time_step 4\n",
      "Testing -->\n",
      "          Create Encoder ...\n",
      "time_step 0\n",
      "time_step 1\n",
      "time_step 2\n",
      "time_step 3\n",
      "time_step 4\n",
      "time_step 5\n",
      "time_step 6\n",
      "time_step 7\n",
      "time_step 8\n",
      "time_step 9\n",
      "time_step 10\n",
      "time_step 11\n",
      "time_step 12\n",
      "time_step 13\n",
      "time_step 14\n",
      "time_step 15\n",
      "time_step 16\n",
      "time_step 17\n",
      "time_step 18\n",
      "time_step 19\n",
      "          Create Decoder ...\n",
      "time_step 0\n",
      "time_step 1\n",
      "time_step 2\n",
      "time_step 3\n",
      "time_step 4\n"
     ]
    }
   ],
   "source": [
    "# tf Graph input\n",
    "#X = tf.placeholder(\"float\", [None, inp_steps, num_input])\n",
    "X = tf.placeholder(\"float\", [None, inp_steps, num_input])\n",
    "Y = tf.placeholder(\"float\", [None, out_steps, num_input])\n",
    "\n",
    "# Decoder output\n",
    "Z = tf.placeholder(\"float\", [None, out_steps, num_input])\n",
    "\n",
    "Model = globals()[FLAGS.model]\n",
    "with tf.name_scope(\"Train\"):\n",
    "    with tf.variable_scope(\"Model\", reuse=None):\n",
    "        train_pred = Model(X, Y, True,  config)\n",
    "with tf.name_scope(\"Test\"):\n",
    "    with tf.variable_scope(\"Model\", reuse=True):\n",
    "        test_pred = Model(X, Y, False,  config)\n",
    "\n",
    "\n",
    "# Define loss and optimizer\n",
    "train_loss = tf.sqrt(tf.reduce_mean(tf.squared_difference(train_pred, Z)))\n",
    "test_loss = tf.sqrt(tf.reduce_mean(tf.squared_difference(test_pred, Z)))\n",
    "\n",
    "# Exponential learning rate decay \n",
    "global_step = tf.Variable(0, trainable=False)\n",
    "starter_learning_rate = config.learning_rate\n",
    "learning_rate = tf.train.exponential_decay(starter_learning_rate, global_step,\n",
    "                                           2000, config.decay_rate, staircase=True)\n",
    "optimizer = tf.train.RMSPropOptimizer(learning_rate)\n",
    "train_op = optimizer.minimize(train_loss,global_step=global_step)\n",
    "\n",
    "# Scheduled sampling params\n",
    "eps_min = 0.1 # minimal prob\n",
    "\n",
    "# Write summary\n",
    "train_summary = tf.summary.scalar('train_loss', train_loss)\n",
    "valid_summary = tf.summary.scalar('valid_loss', test_loss)\n",
    "lr_summary = tf.summary.scalar('learning_rate', learning_rate)\n",
    "\n",
    "# Initialize the variables (i.e. assign their default value)\n",
    "init = tf.global_variables_initializer()\n",
    "\n",
    "# Saver for the model and loss\n",
    "saver = tf.train.Saver()\n",
    "hist_loss =[]"
   ]
  },
  {
   "cell_type": "markdown",
   "metadata": {},
   "source": [
    "### Training loop\n",
    "This may take a while, training loss is displayed at every 500 steps, \n",
    "use GPU can speed up training"
   ]
  },
  {
   "cell_type": "code",
   "execution_count": 6,
   "metadata": {
    "collapsed": false
   },
   "outputs": [
    {
     "name": "stdout",
     "output_type": "stream",
     "text": [
      "merged\n",
      "name: \"init\"\n",
      "op: \"NoOp\"\n",
      "input: \"^Model/Encoder/trnn/multi_rnn_cell/cell_0/w_h/Assign\"\n",
      "input: \"^Model/Encoder/trnn/multi_rnn_cell/cell_0/weights_x/Assign\"\n",
      "input: \"^Model/Encoder/trnn/multi_rnn_cell/cell_0/biases/Assign\"\n",
      "input: \"^Model/Encoder/trnn/fully_connected/weights/Assign\"\n",
      "input: \"^Model/Encoder/trnn/fully_connected/biases/Assign\"\n",
      "input: \"^Model/Decoder/trnn/multi_rnn_cell/cell_0/w_h/Assign\"\n",
      "input: \"^Model/Decoder/trnn/multi_rnn_cell/cell_0/weights_x/Assign\"\n",
      "input: \"^Model/Decoder/trnn/multi_rnn_cell/cell_0/biases/Assign\"\n",
      "input: \"^Model/Decoder/trnn/fully_connected/weights/Assign\"\n",
      "input: \"^Model/Decoder/trnn/fully_connected/biases/Assign\"\n",
      "input: \"^Variable/Assign\"\n",
      "input: \"^Model/Encoder/trnn/multi_rnn_cell/cell_0/w_h/RMSProp/Assign\"\n",
      "input: \"^Model/Encoder/trnn/multi_rnn_cell/cell_0/w_h/RMSProp_1/Assign\"\n",
      "input: \"^Model/Encoder/trnn/multi_rnn_cell/cell_0/weights_x/RMSProp/Assign\"\n",
      "input: \"^Model/Encoder/trnn/multi_rnn_cell/cell_0/weights_x/RMSProp_1/Assign\"\n",
      "input: \"^Model/Encoder/trnn/multi_rnn_cell/cell_0/biases/RMSProp/Assign\"\n",
      "input: \"^Model/Encoder/trnn/multi_rnn_cell/cell_0/biases/RMSProp_1/Assign\"\n",
      "input: \"^Model/Decoder/trnn/multi_rnn_cell/cell_0/w_h/RMSProp/Assign\"\n",
      "input: \"^Model/Decoder/trnn/multi_rnn_cell/cell_0/w_h/RMSProp_1/Assign\"\n",
      "input: \"^Model/Decoder/trnn/multi_rnn_cell/cell_0/weights_x/RMSProp/Assign\"\n",
      "input: \"^Model/Decoder/trnn/multi_rnn_cell/cell_0/weights_x/RMSProp_1/Assign\"\n",
      "input: \"^Model/Decoder/trnn/multi_rnn_cell/cell_0/biases/RMSProp/Assign\"\n",
      "input: \"^Model/Decoder/trnn/multi_rnn_cell/cell_0/biases/RMSProp_1/Assign\"\n",
      "input: \"^Model/Decoder/trnn/fully_connected/weights/RMSProp/Assign\"\n",
      "input: \"^Model/Decoder/trnn/fully_connected/weights/RMSProp_1/Assign\"\n",
      "input: \"^Model/Decoder/trnn/fully_connected/biases/RMSProp/Assign\"\n",
      "input: \"^Model/Decoder/trnn/fully_connected/biases/RMSProp_1/Assign\"\n",
      "\n",
      "running\n",
      "over\n",
      "Step 1, Minibatch Loss= 0.2778\n",
      "Validation Loss: 0.26781043\n",
      "running\n",
      "over\n",
      "running\n",
      "over\n",
      "running\n",
      "over\n",
      "running\n",
      "over\n",
      "running\n",
      "over\n",
      "running\n",
      "over\n",
      "running\n",
      "over\n",
      "running\n",
      "over\n",
      "running\n",
      "over\n",
      "Step 10, Minibatch Loss= 0.2767\n"
     ]
    },
    {
     "ename": "KeyboardInterrupt",
     "evalue": "",
     "output_type": "error",
     "traceback": [
      "\u001b[0;31m---------------------------------------------------------------------------\u001b[0m",
      "\u001b[0;31mKeyboardInterrupt\u001b[0m                         Traceback (most recent call last)",
      "\u001b[0;32m<ipython-input-6-b97a0ad51de2>\u001b[0m in \u001b[0;36m<module>\u001b[0;34m()\u001b[0m\n\u001b[1;32m     29\u001b[0m             \u001b[0mvalid_dec_inps\u001b[0m \u001b[0;34m=\u001b[0m \u001b[0mdataset\u001b[0m\u001b[0;34m.\u001b[0m\u001b[0mvalidation\u001b[0m\u001b[0;34m.\u001b[0m\u001b[0mdec_inps\u001b[0m\u001b[0;34m.\u001b[0m\u001b[0mreshape\u001b[0m\u001b[0;34m(\u001b[0m\u001b[0;34m(\u001b[0m\u001b[0;34m-\u001b[0m\u001b[0;36m1\u001b[0m\u001b[0;34m,\u001b[0m \u001b[0mout_steps\u001b[0m\u001b[0;34m,\u001b[0m \u001b[0mnum_input\u001b[0m\u001b[0;34m)\u001b[0m\u001b[0;34m)\u001b[0m\u001b[0;34m\u001b[0m\u001b[0m\n\u001b[1;32m     30\u001b[0m             \u001b[0mvalid_dec_outs\u001b[0m \u001b[0;34m=\u001b[0m \u001b[0mdataset\u001b[0m\u001b[0;34m.\u001b[0m\u001b[0mvalidation\u001b[0m\u001b[0;34m.\u001b[0m\u001b[0mdec_outs\u001b[0m\u001b[0;34m.\u001b[0m\u001b[0mreshape\u001b[0m\u001b[0;34m(\u001b[0m\u001b[0;34m(\u001b[0m\u001b[0;34m-\u001b[0m\u001b[0;36m1\u001b[0m\u001b[0;34m,\u001b[0m \u001b[0mout_steps\u001b[0m\u001b[0;34m,\u001b[0m \u001b[0mnum_input\u001b[0m\u001b[0;34m)\u001b[0m\u001b[0;34m)\u001b[0m\u001b[0;34m\u001b[0m\u001b[0m\n\u001b[0;32m---> 31\u001b[0;31m             \u001b[0mva_sum\u001b[0m\u001b[0;34m,\u001b[0m \u001b[0mva_loss\u001b[0m \u001b[0;34m=\u001b[0m \u001b[0msess\u001b[0m\u001b[0;34m.\u001b[0m\u001b[0mrun\u001b[0m\u001b[0;34m(\u001b[0m\u001b[0;34m[\u001b[0m\u001b[0mvalid_summary\u001b[0m\u001b[0;34m,\u001b[0m\u001b[0mtest_loss\u001b[0m\u001b[0;34m]\u001b[0m\u001b[0;34m,\u001b[0m                                        \u001b[0mfeed_dict\u001b[0m\u001b[0;34m=\u001b[0m\u001b[0;34m{\u001b[0m\u001b[0mX\u001b[0m\u001b[0;34m:\u001b[0m \u001b[0mvalid_enc_inps\u001b[0m\u001b[0;34m,\u001b[0m \u001b[0mY\u001b[0m\u001b[0;34m:\u001b[0m \u001b[0mvalid_dec_inps\u001b[0m\u001b[0;34m,\u001b[0m \u001b[0mZ\u001b[0m\u001b[0;34m:\u001b[0m \u001b[0mvalid_dec_outs\u001b[0m\u001b[0;34m}\u001b[0m\u001b[0;34m)\u001b[0m\u001b[0;34m\u001b[0m\u001b[0m\n\u001b[0m\u001b[1;32m     32\u001b[0m             \u001b[0msummary_writer\u001b[0m\u001b[0;34m.\u001b[0m\u001b[0madd_summary\u001b[0m\u001b[0;34m(\u001b[0m\u001b[0mva_sum\u001b[0m\u001b[0;34m,\u001b[0m \u001b[0mstep\u001b[0m\u001b[0;34m)\u001b[0m\u001b[0;34m\u001b[0m\u001b[0m\n\u001b[1;32m     33\u001b[0m             \u001b[0mprint\u001b[0m\u001b[0;34m(\u001b[0m\u001b[0;34m\"Validation Loss:\"\u001b[0m\u001b[0;34m,\u001b[0m \u001b[0mva_loss\u001b[0m\u001b[0;34m)\u001b[0m\u001b[0;34m\u001b[0m\u001b[0m\n",
      "\u001b[0;32m//anaconda/envs/myanaconda3/lib/python3.5/site-packages/tensorflow/python/client/session.py\u001b[0m in \u001b[0;36mrun\u001b[0;34m(self, fetches, feed_dict, options, run_metadata)\u001b[0m\n\u001b[1;32m    776\u001b[0m     \u001b[0;32mtry\u001b[0m\u001b[0;34m:\u001b[0m\u001b[0;34m\u001b[0m\u001b[0m\n\u001b[1;32m    777\u001b[0m       result = self._run(None, fetches, feed_dict, options_ptr,\n\u001b[0;32m--> 778\u001b[0;31m                          run_metadata_ptr)\n\u001b[0m\u001b[1;32m    779\u001b[0m       \u001b[0;32mif\u001b[0m \u001b[0mrun_metadata\u001b[0m\u001b[0;34m:\u001b[0m\u001b[0;34m\u001b[0m\u001b[0m\n\u001b[1;32m    780\u001b[0m         \u001b[0mproto_data\u001b[0m \u001b[0;34m=\u001b[0m \u001b[0mtf_session\u001b[0m\u001b[0;34m.\u001b[0m\u001b[0mTF_GetBuffer\u001b[0m\u001b[0;34m(\u001b[0m\u001b[0mrun_metadata_ptr\u001b[0m\u001b[0;34m)\u001b[0m\u001b[0;34m\u001b[0m\u001b[0m\n",
      "\u001b[0;32m//anaconda/envs/myanaconda3/lib/python3.5/site-packages/tensorflow/python/client/session.py\u001b[0m in \u001b[0;36m_run\u001b[0;34m(self, handle, fetches, feed_dict, options, run_metadata)\u001b[0m\n\u001b[1;32m    980\u001b[0m     \u001b[0;32mif\u001b[0m \u001b[0mfinal_fetches\u001b[0m \u001b[0;32mor\u001b[0m \u001b[0mfinal_targets\u001b[0m\u001b[0;34m:\u001b[0m\u001b[0;34m\u001b[0m\u001b[0m\n\u001b[1;32m    981\u001b[0m       results = self._do_run(handle, final_targets, final_fetches,\n\u001b[0;32m--> 982\u001b[0;31m                              feed_dict_string, options, run_metadata)\n\u001b[0m\u001b[1;32m    983\u001b[0m     \u001b[0;32melse\u001b[0m\u001b[0;34m:\u001b[0m\u001b[0;34m\u001b[0m\u001b[0m\n\u001b[1;32m    984\u001b[0m       \u001b[0mresults\u001b[0m \u001b[0;34m=\u001b[0m \u001b[0;34m[\u001b[0m\u001b[0;34m]\u001b[0m\u001b[0;34m\u001b[0m\u001b[0m\n",
      "\u001b[0;32m//anaconda/envs/myanaconda3/lib/python3.5/site-packages/tensorflow/python/client/session.py\u001b[0m in \u001b[0;36m_do_run\u001b[0;34m(self, handle, target_list, fetch_list, feed_dict, options, run_metadata)\u001b[0m\n\u001b[1;32m   1030\u001b[0m     \u001b[0;32mif\u001b[0m \u001b[0mhandle\u001b[0m \u001b[0;32mis\u001b[0m \u001b[0;32mNone\u001b[0m\u001b[0;34m:\u001b[0m\u001b[0;34m\u001b[0m\u001b[0m\n\u001b[1;32m   1031\u001b[0m       return self._do_call(_run_fn, self._session, feed_dict, fetch_list,\n\u001b[0;32m-> 1032\u001b[0;31m                            target_list, options, run_metadata)\n\u001b[0m\u001b[1;32m   1033\u001b[0m     \u001b[0;32melse\u001b[0m\u001b[0;34m:\u001b[0m\u001b[0;34m\u001b[0m\u001b[0m\n\u001b[1;32m   1034\u001b[0m       return self._do_call(_prun_fn, self._session, handle, feed_dict,\n",
      "\u001b[0;32m//anaconda/envs/myanaconda3/lib/python3.5/site-packages/tensorflow/python/client/session.py\u001b[0m in \u001b[0;36m_do_call\u001b[0;34m(self, fn, *args)\u001b[0m\n\u001b[1;32m   1037\u001b[0m   \u001b[0;32mdef\u001b[0m \u001b[0m_do_call\u001b[0m\u001b[0;34m(\u001b[0m\u001b[0mself\u001b[0m\u001b[0;34m,\u001b[0m \u001b[0mfn\u001b[0m\u001b[0;34m,\u001b[0m \u001b[0;34m*\u001b[0m\u001b[0margs\u001b[0m\u001b[0;34m)\u001b[0m\u001b[0;34m:\u001b[0m\u001b[0;34m\u001b[0m\u001b[0m\n\u001b[1;32m   1038\u001b[0m     \u001b[0;32mtry\u001b[0m\u001b[0;34m:\u001b[0m\u001b[0;34m\u001b[0m\u001b[0m\n\u001b[0;32m-> 1039\u001b[0;31m       \u001b[0;32mreturn\u001b[0m \u001b[0mfn\u001b[0m\u001b[0;34m(\u001b[0m\u001b[0;34m*\u001b[0m\u001b[0margs\u001b[0m\u001b[0;34m)\u001b[0m\u001b[0;34m\u001b[0m\u001b[0m\n\u001b[0m\u001b[1;32m   1040\u001b[0m     \u001b[0;32mexcept\u001b[0m \u001b[0merrors\u001b[0m\u001b[0;34m.\u001b[0m\u001b[0mOpError\u001b[0m \u001b[0;32mas\u001b[0m \u001b[0me\u001b[0m\u001b[0;34m:\u001b[0m\u001b[0;34m\u001b[0m\u001b[0m\n\u001b[1;32m   1041\u001b[0m       \u001b[0mmessage\u001b[0m \u001b[0;34m=\u001b[0m \u001b[0mcompat\u001b[0m\u001b[0;34m.\u001b[0m\u001b[0mas_text\u001b[0m\u001b[0;34m(\u001b[0m\u001b[0me\u001b[0m\u001b[0;34m.\u001b[0m\u001b[0mmessage\u001b[0m\u001b[0;34m)\u001b[0m\u001b[0;34m\u001b[0m\u001b[0m\n",
      "\u001b[0;32m//anaconda/envs/myanaconda3/lib/python3.5/site-packages/tensorflow/python/client/session.py\u001b[0m in \u001b[0;36m_run_fn\u001b[0;34m(session, feed_dict, fetch_list, target_list, options, run_metadata)\u001b[0m\n\u001b[1;32m   1019\u001b[0m         return tf_session.TF_Run(session, options,\n\u001b[1;32m   1020\u001b[0m                                  \u001b[0mfeed_dict\u001b[0m\u001b[0;34m,\u001b[0m \u001b[0mfetch_list\u001b[0m\u001b[0;34m,\u001b[0m \u001b[0mtarget_list\u001b[0m\u001b[0;34m,\u001b[0m\u001b[0;34m\u001b[0m\u001b[0m\n\u001b[0;32m-> 1021\u001b[0;31m                                  status, run_metadata)\n\u001b[0m\u001b[1;32m   1022\u001b[0m \u001b[0;34m\u001b[0m\u001b[0m\n\u001b[1;32m   1023\u001b[0m     \u001b[0;32mdef\u001b[0m \u001b[0m_prun_fn\u001b[0m\u001b[0;34m(\u001b[0m\u001b[0msession\u001b[0m\u001b[0;34m,\u001b[0m \u001b[0mhandle\u001b[0m\u001b[0;34m,\u001b[0m \u001b[0mfeed_dict\u001b[0m\u001b[0;34m,\u001b[0m \u001b[0mfetch_list\u001b[0m\u001b[0;34m)\u001b[0m\u001b[0;34m:\u001b[0m\u001b[0;34m\u001b[0m\u001b[0m\n",
      "\u001b[0;31mKeyboardInterrupt\u001b[0m: "
     ]
    }
   ],
   "source": [
    "# Start training\n",
    "with tf.Session() as sess:\n",
    "    # Merge all the summaries and write them out to /log/tlstm (by default)\n",
    "    merged = tf.summary.merge_all()\n",
    "    print(\"merged\")\n",
    "    summary_writer = tf.summary.FileWriter(FLAGS.save_path,sess.graph)\n",
    "    print(init)\n",
    "    # Run the initializer\n",
    "    sess.run(init)    \n",
    "    \n",
    "    for step in range(1, training_steps+1):\n",
    "        batch_x, batch_y, batch_z = dataset.train.next_batch(batch_size)\n",
    "        #print(batch_z)\n",
    "        # Run optimization op (backprop)\n",
    "        print(\"running\")\n",
    "        sess.run(train_op, feed_dict={X: batch_x, Y: batch_y, Z:batch_z})\n",
    "        print(\"over\")\n",
    "        if step % display_step == 0 or step == 1:\n",
    "            # Calculate batch loss \n",
    "            summary, loss = sess.run([merged,train_loss], feed_dict={X: batch_x,Y: batch_y, Z:batch_z})\n",
    "            run_options = tf.RunOptions(trace_level=tf.RunOptions.FULL_TRACE)\n",
    "            run_metadata = tf.RunMetadata()\n",
    "            summary_writer.add_run_metadata(run_metadata, 'step%03d' % step)\n",
    "            summary_writer.add_summary(summary, step)\n",
    "            print(\"Step \" + str(step) + \", Minibatch Loss= \" + \\\n",
    "                  \"{:.4f}\".format(loss) )\n",
    "            \n",
    "            # Calculate validation\n",
    "            valid_enc_inps = dataset.validation.enc_inps.reshape((-1, inp_steps, num_input))\n",
    "            valid_dec_inps = dataset.validation.dec_inps.reshape((-1, out_steps, num_input))\n",
    "            valid_dec_outs = dataset.validation.dec_outs.reshape((-1, out_steps, num_input))\n",
    "            va_sum, va_loss = sess.run([valid_summary,test_loss], \\\n",
    "                                       feed_dict={X: valid_enc_inps, Y: valid_dec_inps, Z: valid_dec_outs})\n",
    "            summary_writer.add_summary(va_sum, step) \n",
    "            print(\"Validation Loss:\", va_loss)\n",
    "            \n",
    "            # Overfitting\n",
    "            hist_loss.append(va_loss)\n",
    "            if len(hist_loss)>20 and va_loss > np.mean(hist_loss):\n",
    "                print(\"Early stopping: step \", step)\n",
    "                break\n",
    "          \n",
    "            #Update sampling prob\n",
    "            if FLAGS.use_sched_samp and step > sampling_burn_in:\n",
    "                sample_prob = max(eps_min, 1.0-step/(2*training_steps))\n",
    "                sess.run(tf.assign(config.sample_prob, sample_prob))\n",
    "                print('Sampling prob:', sample_prob)\n",
    "\n",
    "    print(\"Optimization Finished!\")\n",
    "\n",
    "    # Calculate accuracy for test datasets\n",
    "    test_enc_inps = dataset.test.enc_inps.reshape((-1, inp_steps, num_input))\n",
    "    test_dec_inps = dataset.test.dec_inps.reshape((-1, out_steps, num_input))\n",
    "    test_dec_outs = dataset.test.dec_outs.reshape((-1, out_steps, num_input))\n",
    "\n",
    "    \n",
    "    # Fetch the predictions \n",
    "    fetches = {\n",
    "        \"true\":Z,\n",
    "        \"pred\":test_pred,\n",
    "        \"loss\":test_loss\n",
    "    }\n",
    "    test_vals = sess.run(fetches, feed_dict={X: test_enc_inps, Y: test_dec_inps, Z: test_dec_outs})\n",
    "    print(\"Testing Loss:\", test_vals[\"loss\"])\n",
    "\n",
    "    # Save the variables to disk.\n",
    "    save_path = saver.save(sess, FLAGS.save_path)\n",
    "    print(\"Model saved in file: %s\" % save_path)\n",
    "    # Save predictions \n",
    "    numpy.save(save_path+\"predict.npy\", (test_vals[\"true\"], test_vals[\"pred\"]))\n",
    "    # Save config file\n",
    "    with open(save_path+\"config.out\", 'w') as f:\n",
    "        f.write('hidden_size:'+ str(config.hidden_size)+'\\t'+ 'learning_rate:'+ str(config.learning_rate)+ '\\n')\n",
    "        f.write('train_error:'+ str(loss) +'\\t'+ 'valid_error:' + str(va_loss) + '\\t'+ 'test_error:'+ str(test_vals[\"loss\"]) +'\\n')"
   ]
  },
  {
   "cell_type": "markdown",
   "metadata": {},
   "source": [
    "### Visualize predictions"
   ]
  },
  {
   "cell_type": "code",
   "execution_count": null,
   "metadata": {
    "collapsed": false
   },
   "outputs": [],
   "source": [
    "y_true = test_vals[\"true\"]\n",
    "y_pred = test_vals[\"pred\"]\n",
    "plt.plot(y_true[11,:,0].T,':')\n",
    "plt.plot(y_pred[11,:,0].T,'-')"
   ]
  },
  {
   "cell_type": "code",
   "execution_count": null,
   "metadata": {
    "collapsed": false
   },
   "outputs": [],
   "source": [
    "sess=tf.Session()\n",
    "# Merge all the summaries and write them out to /log/tlstm (by default)\n",
    "merged = tf.summary.merge_all()\n",
    "print(\"merged\")\n",
    "summary_writer = tf.summary.FileWriter(FLAGS.save_path,sess.graph)\n",
    "print(init)\n",
    "# Run the initializer\n",
    "sess.run(init)"
   ]
  },
  {
   "cell_type": "code",
   "execution_count": null,
   "metadata": {
    "collapsed": true
   },
   "outputs": [],
   "source": [
    "writer = tf.summary.FileWriter('./test/',sess.graph)"
   ]
  },
  {
   "cell_type": "code",
   "execution_count": null,
   "metadata": {
    "collapsed": false
   },
   "outputs": [],
   "source": [
    "tensors = tf.get_collection(tf.GraphKeys.GLOBAL_VARIABLES)\n",
    "print(tensors[7])\n",
    "print(sess.run(tensors[7]))"
   ]
  },
  {
   "cell_type": "code",
   "execution_count": 7,
   "metadata": {
    "collapsed": true
   },
   "outputs": [],
   "source": [
    "summary_writer.flush()\n",
    "summary_writer.close()"
   ]
  },
  {
   "cell_type": "code",
   "execution_count": null,
   "metadata": {
    "collapsed": true
   },
   "outputs": [],
   "source": []
  }
 ],
 "metadata": {
  "anaconda-cloud": {},
  "kernelspec": {
   "display_name": "Python 3",
   "language": "python",
   "name": "python3"
  },
  "language_info": {
   "codemirror_mode": {
    "name": "ipython",
    "version": 3
   },
   "file_extension": ".py",
   "mimetype": "text/x-python",
   "name": "python",
   "nbconvert_exporter": "python",
   "pygments_lexer": "ipython3",
   "version": "3.6.5"
  }
 },
 "nbformat": 4,
 "nbformat_minor": 2
}
